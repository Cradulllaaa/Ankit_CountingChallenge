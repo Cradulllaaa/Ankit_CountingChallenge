{
 "cells": [
  {
   "cell_type": "code",
   "execution_count": 1,
   "metadata": {},
   "outputs": [],
   "source": [
    "import torch\n"
   ]
  },
  {
   "cell_type": "code",
   "execution_count": 2,
   "metadata": {},
   "outputs": [],
   "source": [
    "import cv2\n",
    "import numpy as np\n",
    "import os"
   ]
  },
  {
   "cell_type": "code",
   "execution_count": 5,
   "metadata": {},
   "outputs": [],
   "source": [
    "def process_image(model, image_path, output_dir):\n",
    "    # Read the image\n",
    "    image = cv2.imread(image_path)\n",
    "    results = model(image)\n",
    "    \n",
    "    # Draw bounding boxes and labels\n",
    "    annotated_image = results.render()[0]\n",
    "    num_items = len(results.pred[0])\n",
    "    num_masks = len(results.pred[0])\n",
    "    \n",
    "    # Add text annotation\n",
    "    cv2.putText(annotated_image, f\"Items Count: {num_items}\", (10, 30), cv2.FONT_HERSHEY_SIMPLEX, 1, (0, 255, 255), 2, cv2.LINE_AA)\n",
    "    cv2.putText(annotated_image, f\"Masks Count: {num_masks}\", (10, 70), cv2.FONT_HERSHEY_SIMPLEX, 1, (255, 0, 255), 2, cv2.LINE_AA)\n",
    "    \n",
    "    # Save the result in the output directory\n",
    "    if not os.path.exists(output_dir):\n",
    "        os.makedirs(output_dir)\n",
    "        \n",
    "    filename = os.path.basename(image_path)\n",
    "    output_path = os.path.join(output_dir, filename)\n",
    "    cv2.imwrite(output_path, annotated_image)\n",
    "    \n",
    "    return num_items, num_masks"
   ]
  },
  {
   "cell_type": "code",
   "execution_count": 6,
   "metadata": {},
   "outputs": [],
   "source": [
    "def process_directory(model, input_dir, output_dir):\n",
    "    for filename in os.listdir(input_dir):\n",
    "        if filename.endswith(\".jpg\"):\n",
    "            image_path = os.path.join(input_dir, filename)\n",
    "            items_count, masks_count = process_image(model, image_path, output_dir)\n",
    "            print(f\"Processed {filename}: {items_count} items detected, {masks_count} masks drawn.\")\n"
   ]
  },
  {
   "cell_type": "code",
   "execution_count": 15,
   "metadata": {},
   "outputs": [],
   "source": [
    "from ultralytics import YOLO\n",
    "\n",
    "model = YOLO('yolov8n.pt')"
   ]
  },
  {
   "cell_type": "code",
   "execution_count": 18,
   "metadata": {},
   "outputs": [
    {
     "name": "stdout",
     "output_type": "stream",
     "text": [
      "Processing Screws_and_bolts dataset...\n",
      "\n",
      "0: 640x480 11 kites, 244.0ms\n",
      "Speed: 31.1ms preprocess, 244.0ms inference, 20.0ms postprocess per image at shape (1, 3, 640, 480)\n"
     ]
    },
    {
     "ename": "AttributeError",
     "evalue": "'list' object has no attribute 'render'",
     "output_type": "error",
     "traceback": [
      "\u001b[1;31m---------------------------------------------------------------------------\u001b[0m",
      "\u001b[1;31mAttributeError\u001b[0m                            Traceback (most recent call last)",
      "Input \u001b[1;32mIn [18]\u001b[0m, in \u001b[0;36m<cell line: 1>\u001b[1;34m()\u001b[0m\n\u001b[0;32m      7\u001b[0m screws_output_dir \u001b[38;5;241m=\u001b[39m \u001b[38;5;124m'\u001b[39m\u001b[38;5;124mOriginal_datasets/AI_output_Screws\u001b[39m\u001b[38;5;124m'\u001b[39m\n\u001b[0;32m      9\u001b[0m \u001b[38;5;28mprint\u001b[39m(\u001b[38;5;124m\"\u001b[39m\u001b[38;5;124mProcessing Screws_and_bolts dataset...\u001b[39m\u001b[38;5;124m\"\u001b[39m)\n\u001b[1;32m---> 10\u001b[0m \u001b[43mprocess_directory\u001b[49m\u001b[43m(\u001b[49m\u001b[43mmodel\u001b[49m\u001b[43m,\u001b[49m\u001b[43m \u001b[49m\u001b[43mscrews_and_bolts_dir\u001b[49m\u001b[43m,\u001b[49m\u001b[43m \u001b[49m\u001b[43mscrews_and_bolts_output_dir\u001b[49m\u001b[43m)\u001b[49m\n\u001b[0;32m     12\u001b[0m \u001b[38;5;28mprint\u001b[39m(\u001b[38;5;124m\"\u001b[39m\u001b[38;5;124mProcessing screws dataset...\u001b[39m\u001b[38;5;124m\"\u001b[39m)\n\u001b[0;32m     13\u001b[0m process_directory(model, screws_dir, screws_output_dir)\n",
      "Input \u001b[1;32mIn [6]\u001b[0m, in \u001b[0;36mprocess_directory\u001b[1;34m(model, input_dir, output_dir)\u001b[0m\n\u001b[0;32m      3\u001b[0m \u001b[38;5;28;01mif\u001b[39;00m filename\u001b[38;5;241m.\u001b[39mendswith(\u001b[38;5;124m\"\u001b[39m\u001b[38;5;124m.jpg\u001b[39m\u001b[38;5;124m\"\u001b[39m):\n\u001b[0;32m      4\u001b[0m     image_path \u001b[38;5;241m=\u001b[39m os\u001b[38;5;241m.\u001b[39mpath\u001b[38;5;241m.\u001b[39mjoin(input_dir, filename)\n\u001b[1;32m----> 5\u001b[0m     items_count, masks_count \u001b[38;5;241m=\u001b[39m \u001b[43mprocess_image\u001b[49m\u001b[43m(\u001b[49m\u001b[43mmodel\u001b[49m\u001b[43m,\u001b[49m\u001b[43m \u001b[49m\u001b[43mimage_path\u001b[49m\u001b[43m,\u001b[49m\u001b[43m \u001b[49m\u001b[43moutput_dir\u001b[49m\u001b[43m)\u001b[49m\n\u001b[0;32m      6\u001b[0m     \u001b[38;5;28mprint\u001b[39m(\u001b[38;5;124mf\u001b[39m\u001b[38;5;124m\"\u001b[39m\u001b[38;5;124mProcessed \u001b[39m\u001b[38;5;132;01m{\u001b[39;00mfilename\u001b[38;5;132;01m}\u001b[39;00m\u001b[38;5;124m: \u001b[39m\u001b[38;5;132;01m{\u001b[39;00mitems_count\u001b[38;5;132;01m}\u001b[39;00m\u001b[38;5;124m items detected, \u001b[39m\u001b[38;5;132;01m{\u001b[39;00mmasks_count\u001b[38;5;132;01m}\u001b[39;00m\u001b[38;5;124m masks drawn.\u001b[39m\u001b[38;5;124m\"\u001b[39m)\n",
      "Input \u001b[1;32mIn [5]\u001b[0m, in \u001b[0;36mprocess_image\u001b[1;34m(model, image_path, output_dir)\u001b[0m\n\u001b[0;32m      4\u001b[0m results \u001b[38;5;241m=\u001b[39m model(image)\n\u001b[0;32m      6\u001b[0m \u001b[38;5;66;03m# Draw bounding boxes and labels\u001b[39;00m\n\u001b[1;32m----> 7\u001b[0m annotated_image \u001b[38;5;241m=\u001b[39m \u001b[43mresults\u001b[49m\u001b[38;5;241;43m.\u001b[39;49m\u001b[43mrender\u001b[49m()[\u001b[38;5;241m0\u001b[39m]\n\u001b[0;32m      8\u001b[0m num_items \u001b[38;5;241m=\u001b[39m \u001b[38;5;28mlen\u001b[39m(results\u001b[38;5;241m.\u001b[39mpred[\u001b[38;5;241m0\u001b[39m])\n\u001b[0;32m      9\u001b[0m num_masks \u001b[38;5;241m=\u001b[39m \u001b[38;5;28mlen\u001b[39m(results\u001b[38;5;241m.\u001b[39mpred[\u001b[38;5;241m0\u001b[39m])\n",
      "\u001b[1;31mAttributeError\u001b[0m: 'list' object has no attribute 'render'"
     ]
    }
   ],
   "source": [
    "if __name__ == \"__main__\":\n",
    "    \n",
    "    screws_and_bolts_dir = 'F:/Ankit_CountingChallenge/Original_datasets/ScrewAndBolt_20240713'\n",
    "    screws_and_bolts_output_dir = 'Original_datasets/AI_output_ScrewAndBolt'\n",
    "    \n",
    "    screws_dir = 'Original_datasets/Screws_2024_07_15/'\n",
    "    screws_output_dir = 'Original_datasets/AI_output_Screws'\n",
    "    \n",
    "    print(\"Processing Screws_and_bolts dataset...\")\n",
    "    process_directory(model, screws_and_bolts_dir, screws_and_bolts_output_dir)\n",
    "    \n",
    "    print(\"Processing screws dataset...\")\n",
    "    process_directory(model, screws_dir, screws_output_dir)"
   ]
  },
  {
   "cell_type": "code",
   "execution_count": null,
   "metadata": {},
   "outputs": [],
   "source": []
  }
 ],
 "metadata": {
  "kernelspec": {
   "display_name": "Python 3",
   "language": "python",
   "name": "python3"
  },
  "language_info": {
   "codemirror_mode": {
    "name": "ipython",
    "version": 3
   },
   "file_extension": ".py",
   "mimetype": "text/x-python",
   "name": "python",
   "nbconvert_exporter": "python",
   "pygments_lexer": "ipython3",
   "version": "3.10.11"
  }
 },
 "nbformat": 4,
 "nbformat_minor": 2
}
